{
 "cells": [
  {
   "cell_type": "code",
   "execution_count": 1,
   "id": "2c094592-dcc3-4476-a4e9-80a6785f84d0",
   "metadata": {},
   "outputs": [
    {
     "name": "stdout",
     "output_type": "stream",
     "text": [
      "Python 3.9.21\n"
     ]
    }
   ],
   "source": [
    "!python --version\n"
   ]
  },
  {
   "cell_type": "code",
   "execution_count": 2,
   "id": "d0678c6d-63a7-42e5-b627-0ad7dedded22",
   "metadata": {},
   "outputs": [
    {
     "data": {
      "text/plain": [
       "4"
      ]
     },
     "execution_count": 2,
     "metadata": {},
     "output_type": "execute_result"
    }
   ],
   "source": [
    "2+2"
   ]
  },
  {
   "cell_type": "code",
   "execution_count": 2,
   "id": "8d0d4ebf-4338-426b-a4cb-ac250bef2fcc",
   "metadata": {},
   "outputs": [],
   "source": [
    "from transformers import BertConfig, BertModel\n",
    "# Building the config\n",
    "config = BertConfig()\n",
    "\n",
    "# Building the model from the config\n",
    "model = BertModel(config)\n"
   ]
  },
  {
   "cell_type": "code",
   "execution_count": 3,
   "id": "74363120-e8e9-40a2-b781-1e867dbff472",
   "metadata": {},
   "outputs": [
    {
     "name": "stdout",
     "output_type": "stream",
     "text": [
      "BertConfig {\n",
      "  \"_attn_implementation_autoset\": true,\n",
      "  \"attention_probs_dropout_prob\": 0.1,\n",
      "  \"classifier_dropout\": null,\n",
      "  \"hidden_act\": \"gelu\",\n",
      "  \"hidden_dropout_prob\": 0.1,\n",
      "  \"hidden_size\": 768,\n",
      "  \"initializer_range\": 0.02,\n",
      "  \"intermediate_size\": 3072,\n",
      "  \"layer_norm_eps\": 1e-12,\n",
      "  \"max_position_embeddings\": 512,\n",
      "  \"model_type\": \"bert\",\n",
      "  \"num_attention_heads\": 12,\n",
      "  \"num_hidden_layers\": 12,\n",
      "  \"pad_token_id\": 0,\n",
      "  \"position_embedding_type\": \"absolute\",\n",
      "  \"transformers_version\": \"4.47.1\",\n",
      "  \"type_vocab_size\": 2,\n",
      "  \"use_cache\": true,\n",
      "  \"vocab_size\": 30522\n",
      "}\n",
      "\n"
     ]
    }
   ],
   "source": [
    "print(config)"
   ]
  },
  {
   "cell_type": "code",
   "execution_count": 4,
   "id": "b9588a70-9ed0-4200-ae75-bf37d07a097f",
   "metadata": {},
   "outputs": [
    {
     "data": {
      "application/vnd.jupyter.widget-view+json": {
       "model_id": "e94587ca1d05432698054b65f751876d",
       "version_major": 2,
       "version_minor": 0
      },
      "text/plain": [
       "config.json:   0%|          | 0.00/570 [00:00<?, ?B/s]"
      ]
     },
     "metadata": {},
     "output_type": "display_data"
    },
    {
     "data": {
      "application/vnd.jupyter.widget-view+json": {
       "model_id": "224da81b53c747958277e96766019e41",
       "version_major": 2,
       "version_minor": 0
      },
      "text/plain": [
       "model.safetensors:   0%|          | 0.00/436M [00:00<?, ?B/s]"
      ]
     },
     "metadata": {},
     "output_type": "display_data"
    }
   ],
   "source": [
    "# above model is untrained and hence will take time to train again and print gibberish most of the time. \n",
    "# So, to spend less time and enerty into it, we'll use pretrained model class \n",
    "\n",
    "from transformers import BertModel\n",
    "\n",
    "# refer to this model card to know more - https://huggingface.co/google-bert/bert-base-cased\n",
    "model = BertModel.from_pretrained(\"bert-base-cased\")\n",
    "# output downloaded below are default config parameters and pretrained weights (originally trained by the authors of the model)\n",
    "# you can change download location via HF_HOME environment variable"
   ]
  },
  {
   "cell_type": "code",
   "execution_count": 5,
   "id": "5f36b585-44fd-4f86-adf2-109d20566dac",
   "metadata": {},
   "outputs": [],
   "source": [
    "# after extra training you can save the models like below \n",
    "model.save_pretrained(\"/home/dvipin2/dev/models/my-bert-base-cased\")"
   ]
  },
  {
   "cell_type": "code",
   "execution_count": 6,
   "id": "76d71c63-7362-4733-8c98-8aac9a9201fc",
   "metadata": {},
   "outputs": [
    {
     "data": {
      "text/plain": [
       "'\\nmodels only understand encoded tokens and not sentences, hence first task is to convert string into tokens\\n\\nfor example - my name is khan ====> [[1234,7865,3579,658]] \\nand this encoded tokens will be fed to model for training or get the answers.\\nfor more information please refer this link - https://huggingface.co/learn/nlp-course/chapter2/4?fw=pt\\n'"
      ]
     },
     "execution_count": 6,
     "metadata": {},
     "output_type": "execute_result"
    }
   ],
   "source": [
    "\"\"\"\n",
    "models only understand encoded tokens and not sentences, hence first task is to convert string into tokens\n",
    "\n",
    "for example - my name is khan ====> [[1234,7865,3579,658]] \n",
    "and this encoded tokens will be fed to model for training or get the answers.\n",
    "for more information please refer this link - https://huggingface.co/learn/nlp-course/chapter2/4?fw=pt\n",
    "\"\"\""
   ]
  },
  {
   "cell_type": "code",
   "execution_count": 8,
   "id": "9fb62117-ad21-4065-ab8b-6bb062e17394",
   "metadata": {},
   "outputs": [
    {
     "data": {
      "application/vnd.jupyter.widget-view+json": {
       "model_id": "e38e4bef28764d05bed3a04d112e6b81",
       "version_major": 2,
       "version_minor": 0
      },
      "text/plain": [
       "tokenizer_config.json:   0%|          | 0.00/49.0 [00:00<?, ?B/s]"
      ]
     },
     "metadata": {},
     "output_type": "display_data"
    },
    {
     "data": {
      "application/vnd.jupyter.widget-view+json": {
       "model_id": "848a114950574cb49ac41141c045d8a0",
       "version_major": 2,
       "version_minor": 0
      },
      "text/plain": [
       "vocab.txt:   0%|          | 0.00/213k [00:00<?, ?B/s]"
      ]
     },
     "metadata": {},
     "output_type": "display_data"
    },
    {
     "data": {
      "application/vnd.jupyter.widget-view+json": {
       "model_id": "4d533ac4eed5466899654ca208a1e94b",
       "version_major": 2,
       "version_minor": 0
      },
      "text/plain": [
       "tokenizer.json:   0%|          | 0.00/436k [00:00<?, ?B/s]"
      ]
     },
     "metadata": {},
     "output_type": "display_data"
    },
    {
     "data": {
      "text/plain": [
       "{'input_ids': [101, 7993, 170, 13809, 23763, 2443, 1110, 3014, 102], 'token_type_ids': [0, 0, 0, 0, 0, 0, 0, 0, 0], 'attention_mask': [1, 1, 1, 1, 1, 1, 1, 1, 1]}"
      ]
     },
     "execution_count": 8,
     "metadata": {},
     "output_type": "execute_result"
    }
   ],
   "source": [
    "# Now lets look at tokenizer loading mechanism, below both syntaxes are same\n",
    "# what they differ is in flexibility\n",
    "\n",
    "from transformers import BertTokenizer\n",
    "tokenizer = BertTokenizer.from_pretrained(\"bert-base-cased\")\n",
    "tokenizer(\"Using a Transformer network is simple\")\n"
   ]
  },
  {
   "cell_type": "code",
   "execution_count": 2,
   "id": "b604e6f6-63e0-409b-a5d8-28e7935e2968",
   "metadata": {},
   "outputs": [
    {
     "data": {
      "text/plain": [
       "{'input_ids': [101, 7993, 170, 13809, 23763, 2443, 1110, 3014, 102], 'token_type_ids': [0, 0, 0, 0, 0, 0, 0, 0, 0], 'attention_mask': [1, 1, 1, 1, 1, 1, 1, 1, 1]}"
      ]
     },
     "execution_count": 2,
     "metadata": {},
     "output_type": "execute_result"
    }
   ],
   "source": [
    "# Autotokenizer\n",
    "\n",
    "from transformers import AutoTokenizer\n",
    "tokenizer = AutoTokenizer.from_pretrained(\"bert-base-cased\")\n",
    "tokenizer(\"Using a Transformer network is simple\")\n",
    "# in the output below bert tokenizer didn't download anything and started form the same checkpoint via AutoTokenizer and output is also same."
   ]
  },
  {
   "cell_type": "code",
   "execution_count": 3,
   "id": "fa8270b9-6c6f-4c8b-a4f6-e6d6cff66ce0",
   "metadata": {},
   "outputs": [
    {
     "data": {
      "text/plain": [
       "('/home/dvipin2/dev/models/my-bert-base-cased/tokenizer_config.json',\n",
       " '/home/dvipin2/dev/models/my-bert-base-cased/special_tokens_map.json',\n",
       " '/home/dvipin2/dev/models/my-bert-base-cased/vocab.txt',\n",
       " '/home/dvipin2/dev/models/my-bert-base-cased/added_tokens.json',\n",
       " '/home/dvipin2/dev/models/my-bert-base-cased/tokenizer.json')"
      ]
     },
     "execution_count": 3,
     "metadata": {},
     "output_type": "execute_result"
    }
   ],
   "source": [
    "#lets save the tokenizer\n",
    "tokenizer.save_pretrained(\"/home/dvipin2/dev/models/my-bert-base-cased/\")"
   ]
  },
  {
   "cell_type": "code",
   "execution_count": 4,
   "id": "e7fbd665-bb31-489f-9511-44eef6826937",
   "metadata": {},
   "outputs": [
    {
     "name": "stdout",
     "output_type": "stream",
     "text": [
      "['Using', 'a', 'Trans', '##former', 'network', 'is', 'simple']\n"
     ]
    }
   ],
   "source": [
    "from transformers import AutoTokenizer\n",
    "\n",
    "tokenizer = AutoTokenizer.from_pretrained(\"/home/dvipin2/dev/models/my-bert-base-cased/\")\n",
    "\n",
    "sequence = \"Using a Transformer network is simple\"\n",
    "tokens = tokenizer.tokenize(sequence)\n",
    "\n",
    "print(tokens)"
   ]
  },
  {
   "cell_type": "code",
   "execution_count": 5,
   "id": "e330fa3d-ac6d-4276-9e05-abf5b256ac57",
   "metadata": {},
   "outputs": [
    {
     "name": "stdout",
     "output_type": "stream",
     "text": [
      "[7993, 170, 13809, 23763, 2443, 1110, 3014]\n"
     ]
    }
   ],
   "source": [
    "ids = tokenizer.convert_tokens_to_ids(tokens)\n",
    "print(ids)"
   ]
  },
  {
   "cell_type": "code",
   "execution_count": 7,
   "id": "24eb5213-627d-4795-b3f5-bfdc1e75ce2f",
   "metadata": {},
   "outputs": [
    {
     "name": "stdout",
     "output_type": "stream",
     "text": [
      "Using a Transformer network is simple\n"
     ]
    }
   ],
   "source": [
    "decoded_string = tokenizer.decode(ids)\n",
    "print(decoded_string)"
   ]
  },
  {
   "cell_type": "code",
   "execution_count": 11,
   "id": "814e5afc-86de-448f-ab8e-630ff4aecc56",
   "metadata": {},
   "outputs": [
    {
     "name": "stdout",
     "output_type": "stream",
     "text": [
      "[[8667, 106], [13297, 119], [8835, 106]]\n"
     ]
    }
   ],
   "source": [
    "next_seqs = [\"Hello!\", \"Cool.\", \"Nice!\"]\n",
    "encoded_seq = []\n",
    "for seq in next_seqs:\n",
    "    encoded_seq.append(tokenizer.convert_tokens_to_ids(tokenizer.tokenize(seq)))\n",
    "print(encoded_seq)\n",
    "\n"
   ]
  },
  {
   "cell_type": "code",
   "execution_count": 12,
   "id": "ceabeff3-b6f5-453f-9a84-03672ffe0266",
   "metadata": {},
   "outputs": [],
   "source": [
    "import torch\n",
    "model_inputs = torch.tensor(encoded_seq)"
   ]
  },
  {
   "cell_type": "code",
   "execution_count": 14,
   "id": "2d691ef9-a0ff-4be6-ae12-cc0782bd5d97",
   "metadata": {},
   "outputs": [
    {
     "name": "stdout",
     "output_type": "stream",
     "text": [
      "tensor([[ 8667,   106],\n",
      "        [13297,   119],\n",
      "        [ 8835,   106]])\n"
     ]
    }
   ],
   "source": [
    "print(model_inputs)"
   ]
  },
  {
   "cell_type": "code",
   "execution_count": 16,
   "id": "62ca02d9-f5d2-4e0c-9a74-5d87f2788430",
   "metadata": {},
   "outputs": [],
   "source": [
    "from transformers import AutoModel\n",
    "model = AutoModel.from_pretrained(\"/home/dvipin2/dev/models/my-bert-base-cased\")\n",
    "outputs = model(input_ids=model_inputs)"
   ]
  },
  {
   "cell_type": "code",
   "execution_count": 17,
   "id": "5f998ea6-e4cd-4f59-9f41-24b02b759b1d",
   "metadata": {},
   "outputs": [
    {
     "name": "stdout",
     "output_type": "stream",
     "text": [
      "BaseModelOutputWithPoolingAndCrossAttentions(last_hidden_state=tensor([[[ 0.3677,  0.6647, -0.2807,  ..., -0.2823,  0.8272,  0.0218],\n",
      "         [ 0.3931,  0.7670, -0.4687,  ...,  0.6114,  0.9736, -0.4572]],\n",
      "\n",
      "        [[ 0.0810, -0.5532,  0.1728,  ..., -0.2150,  0.6107,  0.9050],\n",
      "         [-0.1549, -0.0249, -0.1992,  ...,  0.9487,  0.6500,  0.6370]],\n",
      "\n",
      "        [[ 0.0029, -0.1294,  0.6850,  ..., -0.8534,  0.4391, -0.2010],\n",
      "         [-0.2554,  0.3452,  0.6528,  ...,  0.5811,  0.5147,  0.4606]]],\n",
      "       grad_fn=<NativeLayerNormBackward0>), pooler_output=tensor([[-0.2076,  0.3310,  0.9867,  ...,  0.9941, -0.1577,  0.9857],\n",
      "        [-0.5561,  0.4024,  0.9950,  ...,  0.9969, -0.4081,  0.9893],\n",
      "        [-0.2240,  0.2850,  0.9639,  ...,  0.9826, -0.1157,  0.9453]],\n",
      "       grad_fn=<TanhBackward0>), hidden_states=None, past_key_values=None, attentions=None, cross_attentions=None)\n"
     ]
    }
   ],
   "source": [
    "print(outputs)"
   ]
  },
  {
   "cell_type": "code",
   "execution_count": null,
   "id": "0c555daa-0230-488b-bf71-856166f98856",
   "metadata": {},
   "outputs": [],
   "source": [
    "##now you can apply any modeling you want"
   ]
  }
 ],
 "metadata": {
  "kernelspec": {
   "display_name": "Python 3 (ipykernel)",
   "language": "python",
   "name": "python3"
  },
  "language_info": {
   "codemirror_mode": {
    "name": "ipython",
    "version": 3
   },
   "file_extension": ".py",
   "mimetype": "text/x-python",
   "name": "python",
   "nbconvert_exporter": "python",
   "pygments_lexer": "ipython3",
   "version": "3.9.21"
  }
 },
 "nbformat": 4,
 "nbformat_minor": 5
}
